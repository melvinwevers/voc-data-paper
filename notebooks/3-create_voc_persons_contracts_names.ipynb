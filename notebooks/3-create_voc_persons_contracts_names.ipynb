{
 "cells": [
  {
   "cell_type": "markdown",
   "metadata": {},
   "source": [
    "# Create `voc_persons_contracts.csv` and `voc_names.csv`\n",
    "\n",
    "\n",
    "This notebook integrates the original VOC muster records file from the [VOC Opvarenden collection of the Dutch National Archives](https://www.nationaalarchief.nl/onderzoeken/index/nt00444) with disambiguation results from the HUMIGEC project (see accompanying data paper for more information). It also adds references to the `voc_ranks.csv` file, translates column names into English, and selects columns to be saved as the `voc_persons_contracts.csv` and `voc_names.csv` files.\n",
    "\n",
    "Please note that this notebook uses the `voc_ranks.csv` file, which has been created in another notebook, and the `voc_places.csv` file, for which no notebook detailing the transformation process is available."
   ]
  },
  {
   "cell_type": "markdown",
   "metadata": {},
   "source": [
    "##  Environment Setup and Import Libraries\n",
    "\n",
    "Set up the environment and import necessary libraries for data manipulation and path handling."
   ]
  },
  {
   "cell_type": "code",
   "execution_count": 1,
   "metadata": {},
   "outputs": [],
   "source": [
    "import pandas as pd\n",
    "import os\n",
    "import numpy as np\n",
    "from datetime import datetime"
   ]
  },
  {
   "cell_type": "markdown",
   "metadata": {},
   "source": [
    "## Define File Paths\n",
    "\n",
    "Set up paths for data directories to manage file locations conveniently."
   ]
  },
  {
   "cell_type": "code",
   "execution_count": 2,
   "metadata": {},
   "outputs": [],
   "source": [
    "local_folder = '../'\n",
    "\n",
    "data_path = os.path.join(local_folder, 'original')\n",
    "external_path = os.path.join(local_folder, 'external')\n",
    "intermediary_path = os.path.join(local_folder, 'intermediary')\n",
    "output_path = os.path.join(local_folder, 'enriched')"
   ]
  },
  {
   "cell_type": "markdown",
   "metadata": {},
   "source": [
    "## Load VOC Muster Records\n",
    "\n",
    "Load the VOC muster records file, add Dutch column names, and display basic information about the data."
   ]
  },
  {
   "cell_type": "code",
   "execution_count": 3,
   "metadata": {},
   "outputs": [],
   "source": [
    "NA_vocop_file = os.path.join(data_path, 'NT00444_OPVARENDEN.csv')\n",
    "\n",
    "nl_headers = [\n",
    "    \"VolledigeNaam\",\n",
    "    \"Voornaam\",\n",
    "    \"Patroniem\",\n",
    "    \"Tussenvoegsel\",\n",
    "    \"Achternaam\",\n",
    "    \"PlaatsHerkomst\",\n",
    "    \"Rang\",\n",
    "    \"RangEn\",\n",
    "    \"RangDe\",\n",
    "    \"Omschrijving\",\n",
    "    \"OmschrijvingEn\",\n",
    "    \"OmschrijvingDe\",\n",
    "    \"DatumInDienst\",\n",
    "    \"DatumUitDienst\",\n",
    "    \"UitDienstPlaats\",\n",
    "    \"UitDienstPlaatsEn\",\n",
    "    \"UitDienstPlaatsDe\",\n",
    "    \"RedenUitDienst\",\n",
    "    \"RedenUitDienstEn\",\n",
    "    \"RedenUitDienstDe\",\n",
    "    \"OmschrijvingUitDienst\",\n",
    "    \"OmschrijvingUitDienstEn\",\n",
    "    \"OmschrijvingUitDienstDe\",\n",
    "    \"UitgevarenSchip\",\n",
    "    \"Maandbrief\",\n",
    "    \"Schuldbrief\",\n",
    "    \"Opmerking\",\n",
    "    \"OpgestaptKaap\",\n",
    "    \"OpgestaptKaapSchip\",\n",
    "    \"OpgestaptKaapKamer\",\n",
    "    \"SchipTerugReis\",\n",
    "    \"KamerTerugReis\",\n",
    "    \"DASnummerTerugreis\",\n",
    "    \"OpmerkingenTerugreis\",\n",
    "    \"InformatieTerugreisBijING\",\n",
    "    \"TerugReisDatumVertrek\",\n",
    "    \"TerugReisAankomstKaap\",\n",
    "    \"TerugReisVertrekKaap\",\n",
    "    \"TerugReisAankomst\",\n",
    "    \"Soldijboek\",\n",
    "    \"Begunstigde\",\n",
    "    \"Bronverwijzing\",\n",
    "    \"uid\",\n",
    "    \"scan\",\n",
    "    \"handle\",\n",
    "    \"ID\"\n",
    "]\n",
    "\n",
    "df_na_vocop = pd.read_csv(NA_vocop_file, index_col=None, header=None, names=nl_headers)"
   ]
  },
  {
   "cell_type": "markdown",
   "metadata": {},
   "source": [
    "## Integrate Disambiguation Results\n",
    "\n",
    "Load and merge disambiguation results from the HUMIGEC project with the VOC muster records."
   ]
  },
  {
   "cell_type": "code",
   "execution_count": 4,
   "metadata": {},
   "outputs": [],
   "source": [
    "vocop = pd.read_csv(os.path.join(intermediary_path, 'vocop-clustered-levenshtein-1.no-service-overlap.cape-boarders-linked.csv'), \n",
    "                    dtype={'HISCO_CODE': str, \n",
    "                           'voyNumberDAS': str, \n",
    "                           'boardedAtCapeVoyNumberDAS': str,\n",
    "                           'boardedAtCapeShipID': str,\n",
    "                           'DASvoyageNumberReturnJourney': str}, delimiter='\\t')"
   ]
  },
  {
   "cell_type": "code",
   "execution_count": 5,
   "metadata": {},
   "outputs": [],
   "source": [
    "vocop = pd.merge(vocop,df_na_vocop[[\"Soldijboek\", \"uid\",\"ID\"]], left_on=\"VOCOP_id\", right_on=\"ID\")"
   ]
  },
  {
   "cell_type": "code",
   "execution_count": 6,
   "metadata": {},
   "outputs": [],
   "source": [
    "vocop.drop('ID', inplace=True, axis=1)"
   ]
  },
  {
   "cell_type": "markdown",
   "metadata": {},
   "source": [
    "## Load and Merge Additional Data\n",
    "\n",
    "Load supplementary data files which provide details such as the sequence number of the voyage for an individual (cluster row) and information about the reasons for terminating service. Integrate these datasets with the current data compilation to yield a more detailed and insightful analysis."
   ]
  },
  {
   "cell_type": "code",
   "execution_count": 55,
   "metadata": {},
   "outputs": [],
   "source": [
    "career = pd.read_csv(os.path.join(intermediary_path, 'clustered_observations.csv'), \n",
    "                     usecols=['clusterRow', 'VOCOP_id'])\n",
    "\n",
    "# endservice: information on reasons for ending career\n",
    "endservice = pd.read_excel(os.path.join(external_path, 'reasonEndService.xlsx'))\n",
    "\n",
    "# merge the data\n",
    "vocop_persons_contracts = pd.merge(vocop, career, how='left', on=['VOCOP_id'])\n",
    "\n",
    "# Here we replace records that have a 'nan' as reason end service with Unknown to enable matching with the 'endservice' file in the next step.\n",
    "vocop_persons_contracts['reasonEndService'].fillna('Unknown', inplace=True)\n",
    "\n",
    "vocop_persons_contracts = pd.merge(vocop_persons_contracts, endservice[['redenEng', 'couldMusterAgain']], \n",
    "          left_on='reasonEndService', right_on='redenEng')\n",
    "\n"
   ]
  },
  {
   "cell_type": "code",
   "execution_count": null,
   "metadata": {},
   "outputs": [],
   "source": [
    "vocop_persons_contracts[vocop_persons_contracts['couldMusterAgain'] == 1]['redenEng'].value_counts()"
   ]
  },
  {
   "cell_type": "code",
   "execution_count": null,
   "metadata": {},
   "outputs": [],
   "source": [
    "print(\"Original columns: {}\".format(vocop_persons_contracts.columns.values))"
   ]
  },
  {
   "cell_type": "markdown",
   "metadata": {},
   "source": [
    "## Select and Rename Columns"
   ]
  },
  {
   "cell_type": "code",
   "execution_count": null,
   "metadata": {},
   "outputs": [],
   "source": [
    "# here we select a subset of columns\n",
    "selected_columns = ['VOCOP_id', 'fullNameOriginal', 'placeOfOrigin', 'disambiguated',\n",
    "                   'cluster_ID', 'clusterRow', 'debtLetter', 'monthLetter', 'dateBeginService',\n",
    "                   'date_end_service_improved', 'reasonEndService', 'voyageID', 'boardedAtCape',\n",
    "                   'boardedAtCapeVoyageID','DASvoyageReturnID', 'Soldijboek', 'uid',\n",
    "                   'generalRemark', 'sourceReference', 'scanPermalink', 'couldMusterAgain', 'endServiceWhere'] \n",
    "\n",
    "\n",
    "vocop_persons_contracts = vocop_persons_contracts[selected_columns]"
   ]
  },
  {
   "cell_type": "code",
   "execution_count": null,
   "metadata": {},
   "outputs": [],
   "source": [
    "# here we rename the columns\n",
    "vocop_persons_contracts.rename(columns = {'VOCOP_id': 'vocop_id', 'fullNameOriginal':'full_name', \n",
    "                                          'placeOfOrigin': 'place_of_origin', 'disambiguated': 'disambiguated_person', \n",
    "                                          'cluster_ID':'person_cluster_id', 'clusterRow': 'person_cluster_row',\n",
    "                                          'debtLetter':'debt_letter', 'monthLetter':'month_letter', \n",
    "                                          'dateBeginService':'date_begin_contract', 'date_end_service_improved':'date_end_contract',\n",
    "                                          'reasonEndService':'reason_end_contract', 'voyageID':'outward_voyage_id',\n",
    "                                         'boardedAtCape':'changed_ship_at_cape', 'boardedAtCapeVoyageID':'changed_ship_at_cape_voyage_id',\n",
    "                                         'DASvoyageReturnID':'return_voyage_id', 'generalRemark':'remark', 'Soldijboek':'source_id', 'uid':'uid',\n",
    "                                         'sourceReference': 'source_reference', 'scanPermalink': 'scan_permalink', 'couldMusterAgain': 'could_muster_again', 'endServiceWhere':'location_end_contract'}, inplace=True)"
   ]
  },
  {
   "cell_type": "markdown",
   "metadata": {},
   "source": [
    "## Merge Rank ID and Place ID\n",
    "\n",
    "Load the `voc_ranks.csv`, `voc_ranks_corrected.csv`, and `voc_places.csv` files and merge the `rank_id`, `rank_corrected` and `place_id` values in the dataframe."
   ]
  },
  {
   "cell_type": "code",
   "execution_count": null,
   "metadata": {},
   "outputs": [],
   "source": [
    "ranks_corrected = pd.read_csv(os.path.join(external_path, 'ranks_corrected.csv'), sep=';')"
   ]
  },
  {
   "cell_type": "code",
   "execution_count": null,
   "metadata": {},
   "outputs": [],
   "source": [
    "vocop_persons_contracts = pd.merge(vocop_persons_contracts, ranks_corrected[['vocop_id', 'eng_improved', 'rank_corrected']], on='vocop_id', how='left')\n",
    "vocop_persons_contracts[vocop_persons_contracts['vocop_id'].isna()]\n",
    "vocop_persons_contracts['rank_corrected'] = vocop_persons_contracts['rank_corrected'].astype('Int64')"
   ]
  },
  {
   "cell_type": "code",
   "execution_count": null,
   "metadata": {},
   "outputs": [],
   "source": [
    "vocop_persons_contracts.rename(columns = {'eng_improved' : 'rank'}, inplace=True)"
   ]
  },
  {
   "cell_type": "code",
   "execution_count": null,
   "metadata": {},
   "outputs": [],
   "source": [
    "voc_ranks = pd.read_csv(os.path.join(output_path, 'voc_ranks.csv'))"
   ]
  },
  {
   "cell_type": "code",
   "execution_count": null,
   "metadata": {},
   "outputs": [],
   "source": [
    "vocop_persons_contracts['rank'] = vocop_persons_contracts['rank'].str.lower()\n",
    "vocop_persons_contracts = pd.merge(vocop_persons_contracts, voc_ranks[['rank_id', 'rank']], on='rank', how='left')\n",
    "vocop_persons_contracts[vocop_persons_contracts['rank'].isna()]\n",
    "vocop_persons_contracts['rank_id'] = vocop_persons_contracts['rank_id'].astype('Int64')"
   ]
  },
  {
   "cell_type": "code",
   "execution_count": null,
   "metadata": {},
   "outputs": [],
   "source": [
    "voc_places = pd.read_csv(os.path.join(output_path, 'voc_places.csv'))"
   ]
  },
  {
   "cell_type": "code",
   "execution_count": null,
   "metadata": {},
   "outputs": [],
   "source": [
    "vocop_persons_contracts = pd.merge(vocop_persons_contracts, \n",
    "                                   voc_places[['place_id', 'place_original']], \n",
    "                                   left_on='place_of_origin', \n",
    "                                   right_on='place_original', \n",
    "                                   how='left')\n",
    "\n",
    "vocop_persons_contracts.drop('place_original', axis=1, inplace=True)\n",
    "vocop_persons_contracts[vocop_persons_contracts['place_of_origin'].isna()]\n",
    "vocop_persons_contracts['place_id'] = vocop_persons_contracts['place_id'].astype('Int64')\n"
   ]
  },
  {
   "cell_type": "markdown",
   "metadata": {},
   "source": [
    "## Calculate Contract Length\n",
    "\n",
    "Calculate the contract length for each record from its start and end dates, using a workaround for old dates. "
   ]
  },
  {
   "cell_type": "code",
   "execution_count": null,
   "metadata": {},
   "outputs": [],
   "source": [
    "# turn into one function?\n",
    "def make_datetime(x):\n",
    "    date_format = \"%Y-%m-%d\"\n",
    "    try:\n",
    "        return datetime.strptime(x, date_format).date()\n",
    "    except:\n",
    "        return np.nan\n",
    "\n",
    "\n",
    "def calculate_delta(begin, end):\n",
    "    if begin is not np.nan and end is not np.nan:\n",
    "        delta = end - begin\n",
    "        return delta.days\n",
    "    else:\n",
    "        return np.nan     "
   ]
  },
  {
   "cell_type": "code",
   "execution_count": null,
   "metadata": {},
   "outputs": [],
   "source": [
    "\n",
    "vocop_persons_contracts['date_begin_contract'] = vocop_persons_contracts['date_begin_contract'].apply(make_datetime)\n",
    "vocop_persons_contracts['date_end_contract'] = vocop_persons_contracts['date_end_contract'].apply(make_datetime)\n",
    "\n",
    "print(vocop_persons_contracts['date_begin_contract'].dtype)\n",
    "print(vocop_persons_contracts['date_end_contract'].dtype)\n"
   ]
  },
  {
   "cell_type": "code",
   "execution_count": null,
   "metadata": {},
   "outputs": [],
   "source": [
    "vocop_persons_contracts['contract_length'] = vocop_persons_contracts.apply(lambda x: calculate_delta(x['date_begin_contract'], x['date_end_contract']), axis=1)                         "
   ]
  },
  {
   "cell_type": "code",
   "execution_count": null,
   "metadata": {},
   "outputs": [],
   "source": [
    "vocop_persons_contracts['contract_length'].describe()"
   ]
  },
  {
   "cell_type": "markdown",
   "metadata": {},
   "source": [
    "## Re-order Columns and Fix Integer Values\n",
    "\n",
    "Re-order the columns and fix integer values (some columns have nans, so use int64, which allows for nulls)."
   ]
  },
  {
   "cell_type": "code",
   "execution_count": null,
   "metadata": {},
   "outputs": [],
   "source": [
    "vocop_persons_contracts = vocop_persons_contracts[['vocop_id', 'full_name', 'place_of_origin', 'place_id', 'disambiguated_person',\n",
    "       'person_cluster_id', 'person_cluster_row', 'rank', 'rank_corrected', 'rank_id', 'debt_letter',\n",
    "       'month_letter', 'date_begin_contract', 'date_end_contract', 'contract_length',\n",
    "       'reason_end_contract', 'could_muster_again', 'location_end_contract', \n",
    "       'outward_voyage_id', 'changed_ship_at_cape',\n",
    "       'changed_ship_at_cape_voyage_id', 'return_voyage_id', 'remark', 'source_id', 'source_reference', \n",
    "        'uid', 'scan_permalink',]]"
   ]
  },
  {
   "cell_type": "code",
   "execution_count": null,
   "metadata": {},
   "outputs": [],
   "source": [
    "vocop_persons_contracts['person_cluster_id'] = vocop_persons_contracts['person_cluster_id'].astype('Int64')\n",
    "vocop_persons_contracts['rank_id'] = vocop_persons_contracts['rank_id'].astype('Int64')"
   ]
  },
  {
   "cell_type": "code",
   "execution_count": null,
   "metadata": {},
   "outputs": [],
   "source": [
    "int_cols = ['person_cluster_id',\n",
    "            'contract_length',\n",
    "            'outward_voyage_id',\n",
    "            'return_voyage_id',\n",
    "            'changed_ship_at_cape_voyage_id'\n",
    "           ]\n",
    "\n",
    "for col in int_cols:\n",
    "    vocop_persons_contracts[col] = vocop_persons_contracts[col].astype('Int64')"
   ]
  },
  {
   "cell_type": "markdown",
   "metadata": {},
   "source": [
    "## Print Descriptive Statistics"
   ]
  },
  {
   "cell_type": "code",
   "execution_count": null,
   "metadata": {},
   "outputs": [],
   "source": [
    "print('Total number of records: {}'.format(vocop_persons_contracts.shape[0]))\n",
    "print('Records without VoyageID: {}'.format(vocop_persons_contracts[vocop_persons_contracts['outward_voyage_id'].isnull()].shape[0]))\n",
    "print('Records that cannot be disambiguated: {}'.format(vocop_persons_contracts[vocop_persons_contracts['disambiguated_person'] == 0].shape[0]))\n",
    "print('Records that boarded at Cape: {}'.format(vocop_persons_contracts[vocop_persons_contracts['changed_ship_at_cape'] == 'Ja'].shape[0]))\n",
    "print('Number of unique persons: {}'.format(vocop_persons_contracts['person_cluster_id'].nunique()))\n",
    "print('Number of unique persons that travelled more than once: {}'.format(vocop_persons_contracts[vocop_persons_contracts['person_cluster_row'] > 1]['person_cluster_id'].nunique()))"
   ]
  },
  {
   "cell_type": "markdown",
   "metadata": {},
   "source": [
    "## Save Data to `vocop_persons_contracts.csv` and `voc_names.csv`\n",
    "\n",
    "To facilitate analysis, save the muster record data to `voc_persons_contracts.csv` and all the original and normalized name parts to `voc_names.csv`"
   ]
  },
  {
   "cell_type": "code",
   "execution_count": null,
   "metadata": {},
   "outputs": [],
   "source": [
    "vocop_persons_contracts.to_csv(os.path.join(output_path, 'voc_persons_contracts.csv'), \n",
    "                               index=None)"
   ]
  },
  {
   "cell_type": "code",
   "execution_count": null,
   "metadata": {},
   "outputs": [],
   "source": [
    "column_name_map = {\n",
    "    'VOCOP_id': 'vocop_id', \n",
    "    'fullNameOriginal': 'full_name_original', \n",
    "    'firstNameOriginal': 'first_name_original',\n",
    "    'patronymicOriginal': 'patronymic_original', \n",
    "    'familyNamePrefixOriginal': 'family_name_prefix_original', \n",
    "    'familyNameOriginal': 'family_name_original',\n",
    "    'fullNameNormalized': 'full_name_normalized',\n",
    "    'firstNameNormalized': 'first_name_normalized', \n",
    "    'patronymicNormalized': 'patronymic_normalized',\n",
    "    'familyNamePrefixNormalized': 'family_name_prefix_normalized', \n",
    "    'familyNameNormalized': 'family_name_normalized'\n",
    "}\n",
    "\n",
    "vocop_names = vocop[list(column_name_map.keys())]\n",
    "vocop_names = vocop_names.rename(columns=column_name_map)\n",
    "vocop_names"
   ]
  },
  {
   "cell_type": "code",
   "execution_count": null,
   "metadata": {},
   "outputs": [],
   "source": [
    "vocop_names.to_csv(os.path.join(output_path, 'voc_names.csv'), \n",
    "                               index=None)"
   ]
  }
 ],
 "metadata": {
  "kernelspec": {
   "display_name": "Python 3 (ipykernel)",
   "language": "python",
   "name": "python3"
  },
  "language_info": {
   "codemirror_mode": {
    "name": "ipython",
    "version": 3
   },
   "file_extension": ".py",
   "mimetype": "text/x-python",
   "name": "python",
   "nbconvert_exporter": "python",
   "pygments_lexer": "ipython3",
   "version": "3.11.5"
  }
 },
 "nbformat": 4,
 "nbformat_minor": 4
}
