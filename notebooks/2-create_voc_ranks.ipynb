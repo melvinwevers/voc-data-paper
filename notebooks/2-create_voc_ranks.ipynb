{
 "cells": [
  {
   "cell_type": "markdown",
   "metadata": {},
   "source": [
    "# Create `voc_ranks.csv`\n",
    "\n",
    "This notebook integrates files with improved rank information and wage sample data that were created in the HUMIGEC project (see accompanying data paper for more information)."
   ]
  },
  {
   "cell_type": "markdown",
   "metadata": {},
   "source": [
    "## Import Libraries\n",
    "\n",
    "Import necessary libraries for data manipulation and file path handling."
   ]
  },
  {
   "cell_type": "code",
   "execution_count": null,
   "metadata": {},
   "outputs": [],
   "source": [
    "import pandas as pd\n",
    "import numpy as np\n",
    "import os"
   ]
  },
  {
   "cell_type": "markdown",
   "metadata": {},
   "source": [
    "## Define File Paths\n",
    "\n",
    "Set up paths for data directories to manage file locations conveniently."
   ]
  },
  {
   "cell_type": "code",
   "execution_count": null,
   "metadata": {},
   "outputs": [],
   "source": [
    "local_folder = '../'\n",
    "\n",
    "data_path = os.path.join(local_folder, 'original')\n",
    "intermediary_path = os.path.join(local_folder, 'intermediary')\n",
    "external_path = os.path.join(local_folder, 'external')\n",
    "output_path = os.path.join(local_folder, 'enriched')"
   ]
  },
  {
   "cell_type": "markdown",
   "metadata": {},
   "source": [
    "## Load Data\n",
    "\n",
    "Load the VOC ranks and wage information from external CSV files, prepared by historian and research assistant on HUMIGEC project. See accompanying data paper for more information."
   ]
  },
  {
   "cell_type": "code",
   "execution_count": null,
   "metadata": {},
   "outputs": [],
   "source": [
    "voc_ranks = pd.read_csv(os.path.join(external_path, 'VOC_ranks.csv'), \n",
    "                        dtype={'rank_id': str, #because of NaNs\n",
    "                           'HISCO': str},\n",
    "                        delimiter=';')\n",
    "\n",
    "\n",
    "wages = pd.read_csv(os.path.join(external_path, 'wage_sample_new_categories_updated.csv'), usecols=['monthly_wage', 'parent_rank'], delimiter=';') "
   ]
  },
  {
   "cell_type": "markdown",
   "metadata": {},
   "source": [
    "## Calculate Median Wage\n",
    "\n",
    "Compute the median wage per parent rank and merge it with the voc_ranks dataframe."
   ]
  },
  {
   "cell_type": "code",
   "execution_count": null,
   "metadata": {},
   "outputs": [],
   "source": [
    "median_wages = wages.groupby('parent_rank')['monthly_wage'].median()\n",
    "voc_ranks = pd.merge(voc_ranks, median_wages.to_frame('median_wage').reset_index(), on='parent_rank', how='outer')"
   ]
  },
  {
   "cell_type": "markdown",
   "metadata": {},
   "source": [
    "## Data Cleaning and Preparation\n",
    "\n",
    "Perform data cleaning and preparation steps such as renaming columns, sorting, and filtering the data."
   ]
  },
  {
   "cell_type": "code",
   "execution_count": null,
   "metadata": {},
   "outputs": [],
   "source": [
    "voc_ranks.rename(columns = {'HISCO': 'hisco'}, inplace=True)\n",
    "\n",
    "# remove rows with nans on rank_id\n",
    "voc_ranks = voc_ranks[voc_ranks['rank_id'].notna()]\n",
    "\n",
    "voc_ranks['rank_id'] = voc_ranks['rank_id'].astype('int')\n",
    "voc_ranks.sort_values('rank_id', inplace=True)"
   ]
  },
  {
   "cell_type": "markdown",
   "metadata": {},
   "source": [
    "## Construct HISCO URIs\n",
    "\n",
    "Create a new column hisco_uri in voc_ranks with URIs constructed from the hisco values."
   ]
  },
  {
   "cell_type": "code",
   "execution_count": null,
   "metadata": {},
   "outputs": [],
   "source": [
    "base_uri = 'https://iisg.amsterdam/resource/hisco/code/hisco/'\n",
    "\n",
    "# Using .apply() with a lambda function to create the 'hisco_uri' column\n",
    "voc_ranks['hisco_uri'] = voc_ranks['hisco'].apply(lambda x: base_uri + str(x) if pd.notnull(x) else np.nan)\n"
   ]
  },
  {
   "cell_type": "markdown",
   "metadata": {},
   "source": [
    "## Finalize and Save DataFrame\n",
    "\n",
    "Finalize the DataFrame by selecting specific columns and then save it to a CSV file."
   ]
  },
  {
   "cell_type": "code",
   "execution_count": null,
   "metadata": {},
   "outputs": [],
   "source": [
    "voc_ranks = voc_ranks [['rank_id', 'rank', 'parent_rank', 'category', 'subcategory', 'hisco', 'hisco_uri',\n",
    "       'rank_nl', 'rank_description_nl', 'rank_description_eng', 'median_wage']]\n",
    "\n",
    "voc_ranks.to_csv(os.path.join(output_path, 'voc_ranks.csv'), index=None)"
   ]
  }
 ],
 "metadata": {
  "kernelspec": {
   "display_name": "Python 3",
   "language": "python",
   "name": "python3"
  },
  "language_info": {
   "codemirror_mode": {
    "name": "ipython",
    "version": 3
   },
   "file_extension": ".py",
   "mimetype": "text/x-python",
   "name": "python",
   "nbconvert_exporter": "python",
   "pygments_lexer": "ipython3",
   "version": "3.10.9"
  }
 },
 "nbformat": 4,
 "nbformat_minor": 4
}
