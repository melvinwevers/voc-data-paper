{
 "cells": [
  {
   "cell_type": "markdown",
   "metadata": {},
   "source": [
    "# Create `voc_beneficiaries.csv`\n",
    "\n",
    "This notebook creates the `voc_beneficiaries.csv` file from the original beneficiaries data from the [VOC Opvarenden collection of the Dutch National Archives](https://www.nationaalarchief.nl/onderzoeken/index/nt00444). The resulting file features English column names and an additional column with normalized relation information."
   ]
  },
  {
   "cell_type": "markdown",
   "metadata": {},
   "source": [
    "## Import Libraries and Original File\n",
    "\n",
    "Import the Pandas library and use the function defined in `helper.py` to read the original data into a dataframe and add English column names."
   ]
  },
  {
   "cell_type": "code",
   "execution_count": null,
   "metadata": {},
   "outputs": [],
   "source": [
    "import pandas as pd\n",
    "\n",
    "import helper\n",
    "\n",
    "df = helper.read_beneficiaries_df()\n",
    "\n",
    "print(f'Beneficiaries data\\n\\tnumber of rows: {df.shape[0]}\\n\\tnumber of columns: {df.shape[1]}')\n",
    "\n",
    "df.head(5)"
   ]
  },
  {
   "cell_type": "markdown",
   "metadata": {},
   "source": [
    "## Normalize Relation Labels\n",
    "\n",
    "Change 'Zus(ter)' into 'Zuster' and apply title case to 'instelling'.\n"
   ]
  },
  {
   "cell_type": "code",
   "execution_count": null,
   "metadata": {},
   "outputs": [],
   "source": [
    "df.relation.value_counts()"
   ]
  },
  {
   "cell_type": "code",
   "execution_count": null,
   "metadata": {},
   "outputs": [],
   "source": [
    "# Change value 'Zus(ter)' into 'Zuster'\n",
    "df.loc[df['relation'] == 'Zus(ter)', 'relation'] = 'Zuster'\n",
    "\n",
    "# Update all occurrences of 'instelling' to 'Instelling'\n",
    "df.relation = df.relation.apply(lambda x: x.title() if isinstance(x, str) else x)\n",
    "\n",
    "# display value counts to check relation labels are consistent\n",
    "df.relation.value_counts()"
   ]
  },
  {
   "cell_type": "markdown",
   "metadata": {},
   "source": [
    "## Write Processed Data to File"
   ]
  },
  {
   "cell_type": "code",
   "execution_count": null,
   "metadata": {},
   "outputs": [],
   "source": [
    "processed_file = '../enriched/voc_beneficiaries.csv'\n",
    "df.to_csv(processed_file, index=None)"
   ]
  }
 ],
 "metadata": {
  "kernelspec": {
   "display_name": "Python 3",
   "language": "python",
   "name": "python3"
  },
  "language_info": {
   "codemirror_mode": {
    "name": "ipython",
    "version": 3
   },
   "file_extension": ".py",
   "mimetype": "text/x-python",
   "name": "python",
   "nbconvert_exporter": "python",
   "pygments_lexer": "ipython3",
   "version": "3.10.9"
  }
 },
 "nbformat": 4,
 "nbformat_minor": 4
}
