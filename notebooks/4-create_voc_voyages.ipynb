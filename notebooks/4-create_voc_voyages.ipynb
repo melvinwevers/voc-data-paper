{
 "cells": [
  {
   "cell_type": "markdown",
   "metadata": {},
   "source": [
    "# Create `voc_voyages.csv`\n",
    "\n",
    "This notebook creates a file with basic information about VOC ship voyages between Europe and Asia, taking from the [Dutch-Asiatic Shipping database](https://resources.huygens.knaw.nl/das/) of the Huygens Institute."
   ]
  },
  {
   "cell_type": "markdown",
   "metadata": {},
   "source": [
    "##  Environment Setup and Import Libraries\n",
    "\n",
    "Set up the environment and import necessary libraries for data manipulation and path handling."
   ]
  },
  {
   "cell_type": "code",
   "execution_count": 1,
   "metadata": {},
   "outputs": [],
   "source": [
    "import pandas as pd\n",
    "import os\n",
    "import numpy as np\n",
    "from edtf import parse_edtf"
   ]
  },
  {
   "cell_type": "code",
   "execution_count": 2,
   "metadata": {},
   "outputs": [],
   "source": [
    "local_folder = '../'\n",
    "\n",
    "data_path = os.path.join(local_folder, 'raw')\n",
    "intermediary_path = os.path.join(local_folder, 'intermediary')\n",
    "external_path = os.path.join(local_folder, 'external')\n",
    "output_path = os.path.join(local_folder, 'enriched')"
   ]
  },
  {
   "cell_type": "markdown",
   "metadata": {},
   "source": [
    "## Read Selected Columns from Data"
   ]
  },
  {
   "cell_type": "code",
   "execution_count": 4,
   "metadata": {},
   "outputs": [],
   "source": [
    "selected_columns = ['voyId', 'voyNameShip', 'voyNumber 1','ShipID','voyTonnage', 'voyChamber',\n",
    "                    'voyDepartureEDTF', 'voyDeparturePlace', 'voyCapeArrivalEDTF',\n",
    "                   'voyCapeDepartureEDTF', 'voyArrivalDateEDTF', 'voyArrivalPlace']\n",
    "\n",
    "voc_voyages = pd.read_excel(os.path.join(external_path, 'das.xlsx'), usecols=selected_columns)"
   ]
  },
  {
   "cell_type": "markdown",
   "metadata": {},
   "source": [
    "## Normalize EDTF Date Representation\n",
    "\n",
    "Take the first date from [EDTF](https://www.loc.gov/standards/datetime/) date representations of complex, uncertain/approximate dates, or date ranges to facilite calculating with dates."
   ]
  },
  {
   "cell_type": "code",
   "execution_count": 3,
   "metadata": {},
   "outputs": [],
   "source": [
    "def fix_edtf(x):\n",
    "    if x.startswith('['):\n",
    "        return str(parse_edtf(x).objects[0])\n",
    "    elif '/' in x:\n",
    "        return x.split('/')[0]\n",
    "    else:\n",
    "        return x"
   ]
  },
  {
   "cell_type": "code",
   "execution_count": 6,
   "metadata": {},
   "outputs": [],
   "source": [
    "for col in ['voyDepartureEDTF', 'voyCapeArrivalEDTF', 'voyCapeDepartureEDTF', 'voyArrivalDateEDTF']:\n",
    "    voc_voyages[col] = voc_voyages[col].astype(str)\n",
    "    voc_voyages[col] = voc_voyages[col].apply(fix_edtf)"
   ]
  },
  {
   "cell_type": "markdown",
   "metadata": {},
   "source": [
    "## Add Direction Field\n",
    "\n",
    "Utilize the numeric values in the 'voyNumber 1' column to populate a new column named 'direction'. Based on the number, categorize each voyage as either 'outward' (from Europe to Asia) or 'return' (from Asia to Europe)."
   ]
  },
  {
   "cell_type": "code",
   "execution_count": 7,
   "metadata": {},
   "outputs": [],
   "source": [
    "voc_voyages['voyNumber 1'] = voc_voyages['voyNumber 1'].astype(str).map(lambda x: x.rstrip('A'))\n",
    "\n",
    "voc_voyages['direction'] = np.where(voc_voyages['voyNumber 1'].astype(int) < 5000, 'outward', 'return')"
   ]
  },
  {
   "cell_type": "code",
   "execution_count": 9,
   "metadata": {},
   "outputs": [],
   "source": [
    "voc_voyages.drop('voyNumber 1', axis=1, inplace=True)"
   ]
  },
  {
   "cell_type": "markdown",
   "metadata": {},
   "source": [
    "## Rename and Select Columns and Perform Last Normalization\n",
    "\n",
    "Rename the columns and select the columns to be saved in the `voc_voyages.csv` file. Also convert shipnames to title case."
   ]
  },
  {
   "cell_type": "code",
   "execution_count": 10,
   "metadata": {},
   "outputs": [],
   "source": [
    "voc_voyages.rename(columns = {'voyId': 'das_voyage_id', 'voyNameShip':'ship_name',\n",
    "                             'voyTonnage': 'ship_tonnage', 'voyChamber': 'chamber',\n",
    "                             'voyDepartureEDTF': 'departure_date', 'voyDeparturePlace':'departure_place',\n",
    "                             'voyCapeArrivalEDTF':'arrival_date_cape', 'voyCapeDepartureEDTF':'departure_date_cape',\n",
    "                             'voyArrivalDateEDTF':'arrival_date', 'voyArrivalPlace':'arrival_place'}, inplace=True)"
   ]
  },
  {
   "cell_type": "code",
   "execution_count": 11,
   "metadata": {},
   "outputs": [],
   "source": [
    "voc_voyages = voc_voyages[['das_voyage_id', 'direction', 'ship_name', 'ship_tonnage', 'chamber', \n",
    "            'departure_date', 'departure_place', 'arrival_date_cape', 'departure_date_cape', 'arrival_date',\n",
    "            'arrival_place']]"
   ]
  },
  {
   "cell_type": "code",
   "execution_count": 12,
   "metadata": {},
   "outputs": [],
   "source": [
    "voc_voyages['ship_name'] = voc_voyages['ship_name'].apply(lambda x: x.title())"
   ]
  },
  {
   "cell_type": "code",
   "execution_count": 13,
   "metadata": {},
   "outputs": [],
   "source": [
    "voc_voyages.to_csv(os.path.join(output_path, 'voc_voyages.csv'), index=None)"
   ]
  }
 ],
 "metadata": {
  "kernelspec": {
   "display_name": "Python 3",
   "language": "python",
   "name": "python3"
  },
  "language_info": {
   "codemirror_mode": {
    "name": "ipython",
    "version": 3
   },
   "file_extension": ".py",
   "mimetype": "text/x-python",
   "name": "python",
   "nbconvert_exporter": "python",
   "pygments_lexer": "ipython3",
   "version": "3.10.9"
  }
 },
 "nbformat": 4,
 "nbformat_minor": 4
}
